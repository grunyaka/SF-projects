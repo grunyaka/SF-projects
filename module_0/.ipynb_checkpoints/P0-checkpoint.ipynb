{
 "cells": [
  {
   "cell_type": "code",
   "execution_count": null,
   "metadata": {},
   "outputs": [],
   "source": [
    "import numpy as np\n",
    "\n",
    "\n",
    "def game_core_v3(number, bottom_bound, upper_bound):\n",
    "    '''Binary search for the hidden number.'''\n",
    "    count = 1\n",
    "    predict = (upper_bound + bottom_bound)//2\n",
    "    while number != predict:\n",
    "        count+=1\n",
    "        if number > predict:\n",
    "            bottom_bound = predict\n",
    "            predict = (upper_bound + bottom_bound)//2\n",
    "        else: \n",
    "            upper_bound = predict\n",
    "            predict = (upper_bound + bottom_bound)//2\n",
    "    return(count) # an exit from the loop if guessed right.\n",
    "\n",
    "\n",
    "def score_game(game_core):\n",
    "    '''Run the game 1000 times to see how quickly the game guesses the number.'''\n",
    "    count_ls = []\n",
    "    np.random.seed(1)  # fixing RANDOM SEED to make your experiment reproducible!\n",
    "    bottom_bound, upper_bound = 1, 101\n",
    "    random_array = np.random.randint(bottom_bound, upper_bound, size=(1000))\n",
    "    for number in random_array:\n",
    "        count_ls.append(game_core(number, bottom_bound, upper_bound))\n",
    "    score = int(np.mean(count_ls))\n",
    "    print(f\"Your algorithm guesses the number on average in {score} tries.\")\n",
    "    return(score)\n",
    "\n",
    "\n",
    "score_game(game_core_v3)"
   ]
  },
  {
   "cell_type": "code",
   "execution_count": null,
   "metadata": {},
   "outputs": [],
   "source": []
  }
 ],
 "metadata": {
  "kernelspec": {
   "display_name": "Python 3",
   "language": "python",
   "name": "python3"
  },
  "language_info": {
   "codemirror_mode": {
    "name": "ipython",
    "version": 3
   },
   "file_extension": ".py",
   "mimetype": "text/x-python",
   "name": "python",
   "nbconvert_exporter": "python",
   "pygments_lexer": "ipython3",
   "version": "3.8.5"
  }
 },
 "nbformat": 4,
 "nbformat_minor": 4
}
