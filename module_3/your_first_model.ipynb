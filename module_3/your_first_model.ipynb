{
 "cells": [
  {
   "cell_type": "markdown",
   "metadata": {},
   "source": [
    "# Загрузка Pandas и очистка данных"
   ]
  },
  {
   "cell_type": "code",
   "execution_count": 99,
   "metadata": {},
   "outputs": [],
   "source": [
    "import pandas as pd\n",
    "from collections import Counter\n",
    "from datetime import datetime\n",
    "import matplotlib.pyplot as plt\n",
    "import seaborn as sns\n",
    "from itertools import combinations\n",
    "from scipy.stats import ttest_ind\n",
    "import re\n",
    "\n",
    "pd.set_option('display.max_rows', 50)  # показывать больше строк\n",
    "pd.set_option('display.max_columns', 50)  # показывать больше колонок\n"
   ]
  },
  {
   "cell_type": "code",
   "execution_count": 100,
   "metadata": {},
   "outputs": [],
   "source": [
    "df = pd.read_csv('main_task_new.csv')"
   ]
  },
  {
   "cell_type": "code",
   "execution_count": 101,
   "metadata": {},
   "outputs": [],
   "source": [
    "# Ваш код по очистке данных и генерации новых признаков\n",
    "# При необходимости добавьте ячейки\n"
   ]
  },
  {
   "cell_type": "markdown",
   "metadata": {},
   "source": [
    "### Number of Reviews\n",
    "Нужно заполнить пропуски"
   ]
  },
  {
   "cell_type": "code",
   "execution_count": 102,
   "metadata": {},
   "outputs": [
    {
     "data": {
      "text/plain": [
       "<AxesSubplot:>"
      ]
     },
     "execution_count": 102,
     "metadata": {},
     "output_type": "execute_result"
    },
    {
     "data": {
      "image/png": "[encoded data removed]",
      "text/plain": [
       "<Figure size 432x288 with 1 Axes>"
      ]
     },
     "metadata": {
      "needs_background": "light"
     },
     "output_type": "display_data"
    }
   ],
   "source": [
    "'''Посмотрим, как распределены величины.'''\n",
    "df['Number of Reviews'].hist()"
   ]
  },
  {
   "cell_type": "markdown",
   "metadata": {},
   "source": [
    "Судя по характеру данных, я бы сказала, что лучше брать median, чем mean."
   ]
  },
  {
   "cell_type": "code",
   "execution_count": 103,
   "metadata": {},
   "outputs": [],
   "source": [
    "'''Заполняем пропуски в Number of Reviews медианными по столбцу значениями.'''\n",
    "\n",
    "df['Number of Reviews'].fillna(df['Number of Reviews'].median(), inplace=True)"
   ]
  },
  {
   "cell_type": "markdown",
   "metadata": {},
   "source": [
    "### Reviews"
   ]
  },
  {
   "cell_type": "code",
   "execution_count": 104,
   "metadata": {},
   "outputs": [],
   "source": [
    "'''Создадим столбец со списком дат отзывов на ресторан в формате datetime.'''\n",
    "\n",
    "review_dates = []\n",
    "\n",
    "for item in df['Reviews']:\n",
    "    review_dates.append(re.findall(r\"\\d\\d/\\d\\d/\\d\\d\\d\\d\", item))\n",
    "\n",
    "for i, dates in enumerate(review_dates):\n",
    "\n",
    "    if len(dates) == 1:\n",
    "        review_dates[i][0] = datetime.strptime(dates[0], '%m/%d/%Y')\n",
    "    \n",
    "    if len(dates) > 1:\n",
    "        for j, date in enumerate(dates):\n",
    "            review_dates[i][j] = datetime.strptime(date, '%m/%d/%Y')\n",
    "        \n",
    "df['Review_dates'] = review_dates\n",
    "del review_dates"
   ]
  },
  {
   "cell_type": "code",
   "execution_count": 105,
   "metadata": {},
   "outputs": [
    {
     "name": "stdout",
     "output_type": "stream",
     "text": [
      "Дата последнего написанного отзыва:  2018-02-26 00:00:00\n"
     ]
    }
   ],
   "source": [
    "'''Создадим столбец с датами последнего отзыва и посмотрим, какой был самый последний.'''\n",
    "\n",
    "\n",
    "def last_date(dlist):\n",
    "    '''Возвращает последнюю из указанных в списке дат отзывов или None, если список пустой.'''\n",
    "    if len(dlist) == 0:\n",
    "        return None\n",
    "    \n",
    "    if len(dlist) == 0:\n",
    "        return dlist[0]\n",
    "    \n",
    "    last = dlist[0]\n",
    "    for date in dlist:\n",
    "        if date > last:\n",
    "            last = date\n",
    "    return last\n",
    "\n",
    "\n",
    "df['Last_Review_Date'] = df.Review_dates.apply(last_date)\n",
    "\n",
    "print('Дата последнего написанного отзыва: ', df.Last_Review_Date.max())"
   ]
  },
  {
   "cell_type": "code",
   "execution_count": 106,
   "metadata": {},
   "outputs": [],
   "source": [
    "'''Заполним пропуски медианным по столбцу значением.'''\n",
    "\n",
    "df['Last_Review_Date'].fillna(df.Last_Review_Date.median(), inplace=True)"
   ]
  },
  {
   "cell_type": "code",
   "execution_count": 107,
   "metadata": {},
   "outputs": [
    {
     "data": {
      "text/plain": [
       "0        1299\n",
       "1        1477\n",
       "2        1291\n",
       "3        1395\n",
       "4        1342\n",
       "         ... \n",
       "39995    1314\n",
       "39996    1309\n",
       "39997    1722\n",
       "39998    1472\n",
       "39999    1999\n",
       "Name: Date_Delta, Length: 40000, dtype: int64"
      ]
     },
     "execution_count": 107,
     "metadata": {},
     "output_type": "execute_result"
    }
   ],
   "source": [
    "'''Добавим столбец - количество дней с последнего отзыва.'''\n",
    "\n",
    "def ddate(rdate):\n",
    "    '''Возвращает разницу в днях между now и датой последнего отзыва.'''\n",
    "    return (datetime.now()-rdate).days\n",
    "\n",
    "\n",
    "df['Date_Delta'] = df['Last_Review_Date'].apply(ddate)\n",
    "df['Date_Delta']"
   ]
  },
  {
   "cell_type": "code",
   "execution_count": 108,
   "metadata": {},
   "outputs": [
    {
     "data": {
      "text/plain": [
       "<AxesSubplot:>"
      ]
     },
     "execution_count": 108,
     "metadata": {},
     "output_type": "execute_result"
    },
    {
     "data": {
      "image/png": "[encoded data removed]",
      "text/plain": [
       "<Figure size 432x288 with 1 Axes>"
      ]
     },
     "metadata": {
      "needs_background": "light"
     },
     "output_type": "display_data"
    }
   ],
   "source": [
    "'''Посмотрим, как распределяются даты последних отзывов (опосредованно через разницу с сейчас).'''\n",
    "\n",
    "df['Date_Delta'].hist()"
   ]
  },
  {
   "cell_type": "markdown",
   "metadata": {},
   "source": [
    "Судя по характеру данных, заполнять пропуски в последних датах медианными значениями было неплохим решением."
   ]
  },
  {
   "cell_type": "code",
   "execution_count": 109,
   "metadata": {},
   "outputs": [
    {
     "name": "stdout",
     "output_type": "stream",
     "text": [
      "Максимальная величина разницы между датами отзывов:  3207\n"
     ]
    }
   ],
   "source": [
    "'''Посчитаем наибольшую разницу между датами отзывов на ресторан. \n",
    "Запишем такие разницы в датах в отдельный стоблец. \n",
    "Если отзывов меньше двух, то присвоим значение = 0.'''\n",
    "\n",
    "\n",
    "def max_date_diff(dlist):\n",
    "    if len(dlist) < 2:\n",
    "        return 0\n",
    "    first = dlist[0]\n",
    "    last = dlist[0]\n",
    "    for date in dlist:\n",
    "        if first > date:\n",
    "            first = date\n",
    "        if last < date:\n",
    "            last = date\n",
    "    return (last - first).days\n",
    "\n",
    "\n",
    "df['Max_Review_Date_Diff'] = df.Review_dates.apply(max_date_diff)\n",
    "\n",
    "print('Максимальная величина разницы между датами отзывов: ', df.Max_Review_Date_Diff.max())"
   ]
  },
  {
   "cell_type": "markdown",
   "metadata": {},
   "source": [
    "### Price Range"
   ]
  },
  {
   "cell_type": "code",
   "execution_count": 110,
   "metadata": {},
   "outputs": [
    {
     "name": "stdout",
     "output_type": "stream",
     "text": [
      "['$$ - $$$' nan '$$$$' '$']\n",
      "['$$ - $$$' 0 '$$$$' '$']\n"
     ]
    }
   ],
   "source": [
    "'''Посмотрим, какие значения есть в Price Range и заполним пропуски нулями.'''\n",
    "\n",
    "print(df['Price Range'].unique())\n",
    "df['Price Range'].fillna(0, inplace = True)\n",
    "print(df['Price Range'].unique())"
   ]
  },
  {
   "cell_type": "code",
   "execution_count": 111,
   "metadata": {},
   "outputs": [],
   "source": [
    "'''Переведем Price Range в числовое значение 0 - нет; 1 - $; 2 - $$-$$$; 3 - $$$$. \n",
    "Запишем это в новый столбец.'''\n",
    "\n",
    "def price_in_num(item):\n",
    "    \n",
    "    if item == 0:\n",
    "        return 0\n",
    "    if item == '$':\n",
    "        return 1\n",
    "    if item == '$$ - $$$':\n",
    "        return 2\n",
    "    if item == '$$$$':\n",
    "        return 2\n",
    "\n",
    "df['Price_Num'] = df['Price Range'].apply(price_in_num)"
   ]
  },
  {
   "cell_type": "markdown",
   "metadata": {},
   "source": [
    "### City"
   ]
  },
  {
   "cell_type": "code",
   "execution_count": 112,
   "metadata": {},
   "outputs": [
    {
     "data": {
      "text/plain": [
       "31"
      ]
     },
     "execution_count": 112,
     "metadata": {},
     "output_type": "execute_result"
    }
   ],
   "source": [
    "len(df['City'].unique())"
   ]
  },
  {
   "cell_type": "code",
   "execution_count": 116,
   "metadata": {},
   "outputs": [
    {
     "name": "stdout",
     "output_type": "stream",
     "text": [
      "[('London', 5757), ('Paris', 4897), ('Madrid', 3108), ('Barcelona', 2734), ('Berlin', 2155), ('Milan', 2133), ('Rome', 2078), ('Prague', 1443), ('Lisbon', 1300), ('Vienna', 1166), ('Amsterdam', 1086), ('Brussels', 1060), ('Hamburg', 949), ('Munich', 893), ('Lyon', 892), ('Stockholm', 820), ('Budapest', 816), ('Warsaw', 727), ('Dublin', 673), ('Copenhagen', 659), ('Athens', 628), ('Edinburgh', 596), ('Zurich', 538), ('Oporto', 513), ('Geneva', 481), ('Krakow', 443), ('Oslo', 385), ('Helsinki', 376), ('Bratislava', 301), ('Luxembourg', 210), ('Ljubljana', 183)]\n"
     ]
    }
   ],
   "source": [
    "'''Посмотрим, сколько ресторанов в городах.'''\n",
    "\n",
    "cities = df['City'].unique().tolist() # Список городов, по которому будем создавать признаки.\n",
    "all_cities = df['City'].tolist() # Список всех упоминаний городов, чтобы определить их популярность.\n",
    "print(Counter(all_cities).most_common())"
   ]
  },
  {
   "cell_type": "markdown",
   "metadata": {},
   "source": [
    "Думаю, поскольку городов всего 31, а минимальное значение ресторанов в городах - 183, то можно и для всех городов создать dummy variables."
   ]
  },
  {
   "cell_type": "code",
   "execution_count": 115,
   "metadata": {},
   "outputs": [],
   "source": [
    "'''Циклом по списку cities создаем признаки.'''\n",
    "\n",
    "def ifcity(city, column):\n",
    "    '''Возвращает 1, если город из ячейки с данными (city) совпадает с городом из списка,\n",
    "    по которому создается колонка (column). И 0, если не совпадает.'''\n",
    "    if city == column:\n",
    "        return 1\n",
    "    return 0\n",
    "\n",
    "\n",
    "for item in cities:\n",
    "    df[item] = df['City'].apply(ifcity, args=(item,))\n",
    "    #print(item)"
   ]
  },
  {
   "cell_type": "markdown",
   "metadata": {},
   "source": [
    "### Cuisine Style"
   ]
  },
  {
   "cell_type": "code",
   "execution_count": 117,
   "metadata": {},
   "outputs": [
    {
     "name": "stderr",
     "output_type": "stream",
     "text": [
      "<ipython-input-117-f14702f08289>:4: FutureWarning: The default value of regex will change from True to False in a future version. In addition, single character regular expressions will *not* be treated as literal strings when regex=True.\n",
      "  df['Cuisine Style'] = df['Cuisine Style'].str.replace('[','')\n",
      "<ipython-input-117-f14702f08289>:5: FutureWarning: The default value of regex will change from True to False in a future version. In addition, single character regular expressions will *not* be treated as literal strings when regex=True.\n",
      "  df['Cuisine Style'] = df['Cuisine Style'].str.replace(']','')\n"
     ]
    }
   ],
   "source": [
    "'''Преобразуем списк кухонь из str в list. Добавим столбец с количеством кухонь в каждом ресторане.'''\n",
    "\n",
    "df['Cuisine Style'] = df['Cuisine Style'].fillna(\"['Unknown']\")\n",
    "df['Cuisine Style'] = df['Cuisine Style'].str.replace('[','')\n",
    "df['Cuisine Style'] = df['Cuisine Style'].str.replace(']','')\n",
    "df['Cuisine Style'] = df['Cuisine Style'].str.replace(\"'\",\"\")\n",
    "\n",
    "cuisines_set = set() # здесь будет список уникальных названий cuisine style\n",
    "cuisines_list = [] # здесь будет список всех упоминаний всех cuisine style, чтобы посмотреть на их популярность\n",
    "cuisines_lists = [] # здесь будет список списков кухонь для каждого ресторана\n",
    "\n",
    "for item in df['Cuisine Style']:\n",
    "    result = item.split(r\", \")\n",
    "    cuisines_lists.append(result)\n",
    "    for cuisine in result:\n",
    "        cuisines_set.add(cuisine)\n",
    "        cuisines_list.append(cuisine)\n",
    "\n",
    "df['Cuisine Style'] = cuisines_lists # Меняем str значение списка на list\n",
    "df['Cuisine_Num'] = [len(a) for a in cuisines_lists] # Количество кухонь в ресторане\n",
    "\n",
    "del cuisines_lists"
   ]
  },
  {
   "cell_type": "code",
   "execution_count": 73,
   "metadata": {},
   "outputs": [
    {
     "name": "stdout",
     "output_type": "stream",
     "text": [
      "Всего кухонь:  125\n",
      "Самая популярная кухня:  ('Vegetarian Friendly', 11189)\n",
      "Среднее число кухонь в ресторане:  2.6224\n"
     ]
    }
   ],
   "source": [
    "'''Количество всех кухонь, самая популярная кухня, среднее число кухонь в ресторане.'''\n",
    "cuisines_set = set()\n",
    "cuisines_list = []\n",
    "\n",
    "for list in df['Cuisine Style']:\n",
    "    for cuisine in list:\n",
    "        cuisines_set.add(cuisine)\n",
    "        cuisines_list.append(cuisine)\n",
    "cuisines_set = cuisines_set - {'Unknown'}\n",
    "#cuisines_list = list(filter(('Unknown').__ne__, cuisines_list))\n",
    "#cuisines_list = filter(lambda a: a != 'Unknown', cuisines_list)\n",
    "\n",
    "print('Всего кухонь: ', len(cuisines_set))\n",
    "print('Самая популярная кухня: ', Counter(cuisines_list).most_common()[0])\n",
    "print('Среднее число кухонь в ресторане: ', df.Cuisine_Num.mean())"
   ]
  },
  {
   "cell_type": "code",
   "execution_count": 74,
   "metadata": {},
   "outputs": [
    {
     "name": "stdout",
     "output_type": "stream",
     "text": [
      "Vegetarian Friendly\n",
      "European\n",
      "Mediterranean\n",
      "Italian\n",
      "Vegan Options\n",
      "Gluten Free Options\n",
      "Bar\n",
      "French\n",
      "Asian\n",
      "Pizza\n"
     ]
    }
   ],
   "source": [
    "'''Какие 10 кухонь самые популярные?'''\n",
    "\n",
    "most_common_cuisines = []\n",
    "\n",
    "dict_cuisines = dict(Counter(cuisines_list).most_common()[:11])\n",
    "del dict_cuisines['Unknown']\n",
    "\n",
    "for a in dict_cuisines.keys():\n",
    "    most_common_cuisines.append(a)\n",
    "    print(a)\n",
    "\n",
    "del dict_cuisines"
   ]
  },
  {
   "cell_type": "code",
   "execution_count": 75,
   "metadata": {},
   "outputs": [
    {
     "name": "stdout",
     "output_type": "stream",
     "text": [
      "Vegetarian Friendly\n",
      "European\n",
      "Mediterranean\n",
      "Italian\n",
      "Vegan Options\n",
      "Gluten Free Options\n",
      "Bar\n",
      "French\n",
      "Asian\n",
      "Pizza\n"
     ]
    }
   ],
   "source": [
    "'''Создадим dumpy variables по видам 10 самых популярных значений cuisine style.'''\n",
    "\n",
    "def ifcuisine(clist, cuisine):\n",
    "    if cuisine in clist:\n",
    "        return 1\n",
    "    return 0\n",
    "\n",
    "for item in most_common_cuisines:\n",
    "    df[item] = df['Cuisine Style'].apply(ifcuisine, args=(item,))\n",
    "    print(item)"
   ]
  },
  {
   "cell_type": "code",
   "execution_count": 76,
   "metadata": {},
   "outputs": [
    {
     "name": "stdout",
     "output_type": "stream",
     "text": [
      "<class 'pandas.core.frame.DataFrame'>\n",
      "RangeIndex: 40000 entries, 0 to 39999\n",
      "Data columns (total 57 columns):\n",
      " #   Column                Non-Null Count  Dtype         \n",
      "---  ------                --------------  -----         \n",
      " 0   Restaurant_id         40000 non-null  object        \n",
      " 1   City                  40000 non-null  object        \n",
      " 2   Cuisine Style         40000 non-null  object        \n",
      " 3   Ranking               40000 non-null  float64       \n",
      " 4   Rating                40000 non-null  float64       \n",
      " 5   Price Range           40000 non-null  object        \n",
      " 6   Number of Reviews     40000 non-null  float64       \n",
      " 7   Reviews               40000 non-null  object        \n",
      " 8   URL_TA                40000 non-null  object        \n",
      " 9   ID_TA                 40000 non-null  object        \n",
      " 10  Review_dates          40000 non-null  object        \n",
      " 11  Last_Review_Date      40000 non-null  datetime64[ns]\n",
      " 12  Date_Delta            40000 non-null  int64         \n",
      " 13  Max_Review_Date_Diff  40000 non-null  int64         \n",
      " 14  Price_Num             40000 non-null  int64         \n",
      " 15  Paris                 40000 non-null  int64         \n",
      " 16  Stockholm             40000 non-null  int64         \n",
      " 17  London                40000 non-null  int64         \n",
      " 18  Berlin                40000 non-null  int64         \n",
      " 19  Munich                40000 non-null  int64         \n",
      " 20  Oporto                40000 non-null  int64         \n",
      " 21  Milan                 40000 non-null  int64         \n",
      " 22  Bratislava            40000 non-null  int64         \n",
      " 23  Vienna                40000 non-null  int64         \n",
      " 24  Rome                  40000 non-null  int64         \n",
      " 25  Barcelona             40000 non-null  int64         \n",
      " 26  Madrid                40000 non-null  int64         \n",
      " 27  Dublin                40000 non-null  int64         \n",
      " 28  Brussels              40000 non-null  int64         \n",
      " 29  Zurich                40000 non-null  int64         \n",
      " 30  Warsaw                40000 non-null  int64         \n",
      " 31  Budapest              40000 non-null  int64         \n",
      " 32  Copenhagen            40000 non-null  int64         \n",
      " 33  Amsterdam             40000 non-null  int64         \n",
      " 34  Lyon                  40000 non-null  int64         \n",
      " 35  Hamburg               40000 non-null  int64         \n",
      " 36  Lisbon                40000 non-null  int64         \n",
      " 37  Prague                40000 non-null  int64         \n",
      " 38  Oslo                  40000 non-null  int64         \n",
      " 39  Helsinki              40000 non-null  int64         \n",
      " 40  Edinburgh             40000 non-null  int64         \n",
      " 41  Geneva                40000 non-null  int64         \n",
      " 42  Ljubljana             40000 non-null  int64         \n",
      " 43  Athens                40000 non-null  int64         \n",
      " 44  Luxembourg            40000 non-null  int64         \n",
      " 45  Krakow                40000 non-null  int64         \n",
      " 46  Cuisine_Num           40000 non-null  int64         \n",
      " 47  Vegetarian Friendly   40000 non-null  int64         \n",
      " 48  European              40000 non-null  int64         \n",
      " 49  Mediterranean         40000 non-null  int64         \n",
      " 50  Italian               40000 non-null  int64         \n",
      " 51  Vegan Options         40000 non-null  int64         \n",
      " 52  Gluten Free Options   40000 non-null  int64         \n",
      " 53  Bar                   40000 non-null  int64         \n",
      " 54  French                40000 non-null  int64         \n",
      " 55  Asian                 40000 non-null  int64         \n",
      " 56  Pizza                 40000 non-null  int64         \n",
      "dtypes: datetime64[ns](1), float64(3), int64(45), object(8)\n",
      "memory usage: 17.4+ MB\n"
     ]
    }
   ],
   "source": [
    "'''Посмотрим, что получилось.'''\n",
    "df.info()"
   ]
  },
  {
   "cell_type": "code",
   "execution_count": 77,
   "metadata": {},
   "outputs": [
    {
     "data": {
      "text/plain": [
       "Index(['Restaurant_id', 'City', 'Cuisine Style', 'Ranking', 'Rating',\n",
       "       'Price Range', 'Number of Reviews', 'Reviews', 'URL_TA', 'ID_TA',\n",
       "       'Review_dates', 'Last_Review_Date', 'Date_Delta',\n",
       "       'Max_Review_Date_Diff', 'Price_Num', 'Paris', 'Stockholm', 'London',\n",
       "       'Berlin', 'Munich', 'Oporto', 'Milan', 'Bratislava', 'Vienna', 'Rome',\n",
       "       'Barcelona', 'Madrid', 'Dublin', 'Brussels', 'Zurich', 'Warsaw',\n",
       "       'Budapest', 'Copenhagen', 'Amsterdam', 'Lyon', 'Hamburg', 'Lisbon',\n",
       "       'Prague', 'Oslo', 'Helsinki', 'Edinburgh', 'Geneva', 'Ljubljana',\n",
       "       'Athens', 'Luxembourg', 'Krakow', 'Cuisine_Num', 'Vegetarian Friendly',\n",
       "       'European', 'Mediterranean', 'Italian', 'Vegan Options',\n",
       "       'Gluten Free Options', 'Bar', 'French', 'Asian', 'Pizza'],\n",
       "      dtype='object')"
      ]
     },
     "execution_count": 77,
     "metadata": {},
     "output_type": "execute_result"
    }
   ],
   "source": [
    "df.columns"
   ]
  },
  {
   "cell_type": "markdown",
   "metadata": {},
   "source": [
    "#### Удалить столбцы не float и не int"
   ]
  },
  {
   "cell_type": "code",
   "execution_count": 78,
   "metadata": {},
   "outputs": [],
   "source": [
    "'''1 вариант: удаление object столбцов без функции drop (с сохранением 'Restaurant_id')'''\n",
    "\n",
    "df = df.select_dtypes(exclude=['object']).assign(Restaurant_id=df['Restaurant_id'].values)"
   ]
  },
  {
   "cell_type": "code",
   "execution_count": 79,
   "metadata": {},
   "outputs": [],
   "source": [
    "'''2 вариант: удаление object столбцов с функцией drop (с сохранением 'Restaurant_id')'''\n",
    "\n",
    "for colmn in df.drop('Restaurant_id', axis = 1):\n",
    "    if df[colmn].dtypes == 'object':\n",
    "        df = df.drop(colmn, axis = 1)"
   ]
  },
  {
   "cell_type": "code",
   "execution_count": 80,
   "metadata": {},
   "outputs": [],
   "source": [
    "df = df.drop('Last_Review_Date', axis = 1)# C датами тоже не работает"
   ]
  },
  {
   "cell_type": "code",
   "execution_count": 81,
   "metadata": {},
   "outputs": [
    {
     "data": {
      "text/plain": [
       "Index(['Ranking', 'Rating', 'Number of Reviews', 'Date_Delta',\n",
       "       'Max_Review_Date_Diff', 'Price_Num', 'Paris', 'Stockholm', 'London',\n",
       "       'Berlin', 'Munich', 'Oporto', 'Milan', 'Bratislava', 'Vienna', 'Rome',\n",
       "       'Barcelona', 'Madrid', 'Dublin', 'Brussels', 'Zurich', 'Warsaw',\n",
       "       'Budapest', 'Copenhagen', 'Amsterdam', 'Lyon', 'Hamburg', 'Lisbon',\n",
       "       'Prague', 'Oslo', 'Helsinki', 'Edinburgh', 'Geneva', 'Ljubljana',\n",
       "       'Athens', 'Luxembourg', 'Krakow', 'Cuisine_Num', 'Vegetarian Friendly',\n",
       "       'European', 'Mediterranean', 'Italian', 'Vegan Options',\n",
       "       'Gluten Free Options', 'Bar', 'French', 'Asian', 'Pizza',\n",
       "       'Restaurant_id'],\n",
       "      dtype='object')"
      ]
     },
     "execution_count": 81,
     "metadata": {},
     "output_type": "execute_result"
    }
   ],
   "source": [
    "df.columns"
   ]
  },
  {
   "cell_type": "code",
   "execution_count": 92,
   "metadata": {},
   "outputs": [],
   "source": [
    "'''Я хочу посмотреть, как кореллируют между собой признаки, чтобы исключить что-то, что я случайно могла продублировать.\n",
    "Но у меня слишком много признаков, поэтому я разобью признаки на 3 группы.'''\n",
    "\n",
    "main_columns = ['Cuisine_Num', 'Ranking', 'Rating', 'Number of Reviews', \n",
    "                'Date_Delta', 'Max_Review_Date_Diff', 'Price_Num',]\n",
    "\n",
    "cuisines_columns = ['Vegetarian Friendly', 'European', 'Mediterranean', \n",
    "                    'Italian', 'Vegan Options', 'Gluten Free Options', \n",
    "                    'Bar', 'French', 'Asian', 'Pizza']\n",
    "\n",
    "cities_columns = ['Paris', 'Stockholm', 'London', 'Berlin', 'Munich', \n",
    "                  'Oporto', 'Milan', 'Bratislava', 'Vienna', 'Rome',\n",
    "                  'Barcelona', 'Madrid', 'Dublin', 'Brussels', 'Zurich', \n",
    "                  'Warsaw', 'Budapest', 'Copenhagen', 'Amsterdam', 'Lyon', \n",
    "                  'Hamburg', 'Lisbon', 'Prague', 'Oslo', 'Helsinki', 'Edinburgh', \n",
    "                  'Geneva', 'Ljubljana','Athens', 'Luxembourg', 'Krakow',]"
   ]
  },
  {
   "cell_type": "markdown",
   "metadata": {},
   "source": [
    "Поскольку признаки городов имеют по 1 значению для ресторана, то вряд ли с чем-то сильно коррелируют. Поэтому я посмотрю остальные признаки."
   ]
  },
  {
   "cell_type": "code",
   "execution_count": 97,
   "metadata": {},
   "outputs": [
    {
     "data": {
      "text/html": [
       "<div>\n",
       "<style scoped>\n",
       "    .dataframe tbody tr th:only-of-type {\n",
       "        vertical-align: middle;\n",
       "    }\n",
       "\n",
       "    .dataframe tbody tr th {\n",
       "        vertical-align: top;\n",
       "    }\n",
       "\n",
       "    .dataframe thead th {\n",
       "        text-align: right;\n",
       "    }\n",
       "</style>\n",
       "<table border=\"1\" class=\"dataframe\">\n",
       "  <thead>\n",
       "    <tr style=\"text-align: right;\">\n",
       "      <th></th>\n",
       "      <th>Cuisine_Num</th>\n",
       "      <th>Ranking</th>\n",
       "      <th>Rating</th>\n",
       "      <th>Number of Reviews</th>\n",
       "      <th>Date_Delta</th>\n",
       "      <th>Max_Review_Date_Diff</th>\n",
       "      <th>Price_Num</th>\n",
       "      <th>Vegetarian Friendly</th>\n",
       "      <th>European</th>\n",
       "      <th>Mediterranean</th>\n",
       "      <th>Italian</th>\n",
       "      <th>Vegan Options</th>\n",
       "      <th>Gluten Free Options</th>\n",
       "      <th>Bar</th>\n",
       "      <th>French</th>\n",
       "      <th>Asian</th>\n",
       "      <th>Pizza</th>\n",
       "    </tr>\n",
       "  </thead>\n",
       "  <tbody>\n",
       "    <tr>\n",
       "      <th>Cuisine_Num</th>\n",
       "      <td>1.000000</td>\n",
       "      <td>-0.320250</td>\n",
       "      <td>0.120059</td>\n",
       "      <td>0.401768</td>\n",
       "      <td>-0.277808</td>\n",
       "      <td>-0.117791</td>\n",
       "      <td>0.570482</td>\n",
       "      <td>0.691884</td>\n",
       "      <td>0.484885</td>\n",
       "      <td>0.385865</td>\n",
       "      <td>0.214009</td>\n",
       "      <td>0.555808</td>\n",
       "      <td>0.536274</td>\n",
       "      <td>0.283678</td>\n",
       "      <td>0.031766</td>\n",
       "      <td>0.193810</td>\n",
       "      <td>0.174517</td>\n",
       "    </tr>\n",
       "    <tr>\n",
       "      <th>Ranking</th>\n",
       "      <td>-0.320250</td>\n",
       "      <td>1.000000</td>\n",
       "      <td>-0.368371</td>\n",
       "      <td>-0.220005</td>\n",
       "      <td>0.161944</td>\n",
       "      <td>0.065661</td>\n",
       "      <td>-0.239168</td>\n",
       "      <td>-0.300139</td>\n",
       "      <td>-0.279235</td>\n",
       "      <td>-0.146513</td>\n",
       "      <td>-0.087515</td>\n",
       "      <td>-0.214913</td>\n",
       "      <td>-0.214648</td>\n",
       "      <td>-0.038656</td>\n",
       "      <td>0.041399</td>\n",
       "      <td>-0.006079</td>\n",
       "      <td>-0.040522</td>\n",
       "    </tr>\n",
       "    <tr>\n",
       "      <th>Rating</th>\n",
       "      <td>0.120059</td>\n",
       "      <td>-0.368371</td>\n",
       "      <td>1.000000</td>\n",
       "      <td>0.027229</td>\n",
       "      <td>-0.078942</td>\n",
       "      <td>-0.065990</td>\n",
       "      <td>0.042103</td>\n",
       "      <td>0.128356</td>\n",
       "      <td>0.047848</td>\n",
       "      <td>0.050665</td>\n",
       "      <td>0.022474</td>\n",
       "      <td>0.122054</td>\n",
       "      <td>0.099455</td>\n",
       "      <td>-0.018162</td>\n",
       "      <td>0.013076</td>\n",
       "      <td>-0.004329</td>\n",
       "      <td>-0.033107</td>\n",
       "    </tr>\n",
       "    <tr>\n",
       "      <th>Number of Reviews</th>\n",
       "      <td>0.401768</td>\n",
       "      <td>-0.220005</td>\n",
       "      <td>0.027229</td>\n",
       "      <td>1.000000</td>\n",
       "      <td>-0.168376</td>\n",
       "      <td>-0.090588</td>\n",
       "      <td>0.288972</td>\n",
       "      <td>0.360999</td>\n",
       "      <td>0.210569</td>\n",
       "      <td>0.182120</td>\n",
       "      <td>0.120824</td>\n",
       "      <td>0.316698</td>\n",
       "      <td>0.407462</td>\n",
       "      <td>0.080043</td>\n",
       "      <td>0.061164</td>\n",
       "      <td>0.025903</td>\n",
       "      <td>0.064932</td>\n",
       "    </tr>\n",
       "    <tr>\n",
       "      <th>Date_Delta</th>\n",
       "      <td>-0.277808</td>\n",
       "      <td>0.161944</td>\n",
       "      <td>-0.078942</td>\n",
       "      <td>-0.168376</td>\n",
       "      <td>1.000000</td>\n",
       "      <td>0.106113</td>\n",
       "      <td>-0.225798</td>\n",
       "      <td>-0.251518</td>\n",
       "      <td>-0.145746</td>\n",
       "      <td>-0.098046</td>\n",
       "      <td>-0.022343</td>\n",
       "      <td>-0.164181</td>\n",
       "      <td>-0.172784</td>\n",
       "      <td>-0.102306</td>\n",
       "      <td>-0.008380</td>\n",
       "      <td>-0.068232</td>\n",
       "      <td>-0.026775</td>\n",
       "    </tr>\n",
       "    <tr>\n",
       "      <th>Max_Review_Date_Diff</th>\n",
       "      <td>-0.117791</td>\n",
       "      <td>0.065661</td>\n",
       "      <td>-0.065990</td>\n",
       "      <td>-0.090588</td>\n",
       "      <td>0.106113</td>\n",
       "      <td>1.000000</td>\n",
       "      <td>-0.006727</td>\n",
       "      <td>-0.113006</td>\n",
       "      <td>-0.057261</td>\n",
       "      <td>-0.025598</td>\n",
       "      <td>0.012135</td>\n",
       "      <td>-0.089547</td>\n",
       "      <td>-0.107157</td>\n",
       "      <td>-0.036816</td>\n",
       "      <td>-0.006177</td>\n",
       "      <td>-0.004204</td>\n",
       "      <td>0.000960</td>\n",
       "    </tr>\n",
       "    <tr>\n",
       "      <th>Price_Num</th>\n",
       "      <td>0.570482</td>\n",
       "      <td>-0.239168</td>\n",
       "      <td>0.042103</td>\n",
       "      <td>0.288972</td>\n",
       "      <td>-0.225798</td>\n",
       "      <td>-0.006727</td>\n",
       "      <td>1.000000</td>\n",
       "      <td>0.449295</td>\n",
       "      <td>0.369799</td>\n",
       "      <td>0.287317</td>\n",
       "      <td>0.200794</td>\n",
       "      <td>0.249721</td>\n",
       "      <td>0.286373</td>\n",
       "      <td>0.192303</td>\n",
       "      <td>0.165773</td>\n",
       "      <td>0.152816</td>\n",
       "      <td>0.102162</td>\n",
       "    </tr>\n",
       "    <tr>\n",
       "      <th>Vegetarian Friendly</th>\n",
       "      <td>0.691884</td>\n",
       "      <td>-0.300139</td>\n",
       "      <td>0.128356</td>\n",
       "      <td>0.360999</td>\n",
       "      <td>-0.251518</td>\n",
       "      <td>-0.113006</td>\n",
       "      <td>0.449295</td>\n",
       "      <td>1.000000</td>\n",
       "      <td>0.266105</td>\n",
       "      <td>0.245179</td>\n",
       "      <td>0.183063</td>\n",
       "      <td>0.553545</td>\n",
       "      <td>0.466960</td>\n",
       "      <td>0.063744</td>\n",
       "      <td>-0.002328</td>\n",
       "      <td>0.177695</td>\n",
       "      <td>0.135573</td>\n",
       "    </tr>\n",
       "    <tr>\n",
       "      <th>European</th>\n",
       "      <td>0.484885</td>\n",
       "      <td>-0.279235</td>\n",
       "      <td>0.047848</td>\n",
       "      <td>0.210569</td>\n",
       "      <td>-0.145746</td>\n",
       "      <td>-0.057261</td>\n",
       "      <td>0.369799</td>\n",
       "      <td>0.266105</td>\n",
       "      <td>1.000000</td>\n",
       "      <td>0.207893</td>\n",
       "      <td>0.083644</td>\n",
       "      <td>0.129058</td>\n",
       "      <td>0.191336</td>\n",
       "      <td>0.120014</td>\n",
       "      <td>0.190514</td>\n",
       "      <td>-0.149441</td>\n",
       "      <td>0.047153</td>\n",
       "    </tr>\n",
       "    <tr>\n",
       "      <th>Mediterranean</th>\n",
       "      <td>0.385865</td>\n",
       "      <td>-0.146513</td>\n",
       "      <td>0.050665</td>\n",
       "      <td>0.182120</td>\n",
       "      <td>-0.098046</td>\n",
       "      <td>-0.025598</td>\n",
       "      <td>0.287317</td>\n",
       "      <td>0.245179</td>\n",
       "      <td>0.207893</td>\n",
       "      <td>1.000000</td>\n",
       "      <td>0.324204</td>\n",
       "      <td>0.176003</td>\n",
       "      <td>0.146993</td>\n",
       "      <td>-0.040833</td>\n",
       "      <td>-0.091487</td>\n",
       "      <td>-0.115277</td>\n",
       "      <td>0.169137</td>\n",
       "    </tr>\n",
       "    <tr>\n",
       "      <th>Italian</th>\n",
       "      <td>0.214009</td>\n",
       "      <td>-0.087515</td>\n",
       "      <td>0.022474</td>\n",
       "      <td>0.120824</td>\n",
       "      <td>-0.022343</td>\n",
       "      <td>0.012135</td>\n",
       "      <td>0.200794</td>\n",
       "      <td>0.183063</td>\n",
       "      <td>0.083644</td>\n",
       "      <td>0.324204</td>\n",
       "      <td>1.000000</td>\n",
       "      <td>0.100346</td>\n",
       "      <td>0.075046</td>\n",
       "      <td>-0.062932</td>\n",
       "      <td>-0.085920</td>\n",
       "      <td>-0.113047</td>\n",
       "      <td>0.477892</td>\n",
       "    </tr>\n",
       "    <tr>\n",
       "      <th>Vegan Options</th>\n",
       "      <td>0.555808</td>\n",
       "      <td>-0.214913</td>\n",
       "      <td>0.122054</td>\n",
       "      <td>0.316698</td>\n",
       "      <td>-0.164181</td>\n",
       "      <td>-0.089547</td>\n",
       "      <td>0.249721</td>\n",
       "      <td>0.553545</td>\n",
       "      <td>0.129058</td>\n",
       "      <td>0.176003</td>\n",
       "      <td>0.100346</td>\n",
       "      <td>1.000000</td>\n",
       "      <td>0.487448</td>\n",
       "      <td>-0.017504</td>\n",
       "      <td>-0.039118</td>\n",
       "      <td>0.151440</td>\n",
       "      <td>0.088247</td>\n",
       "    </tr>\n",
       "    <tr>\n",
       "      <th>Gluten Free Options</th>\n",
       "      <td>0.536274</td>\n",
       "      <td>-0.214648</td>\n",
       "      <td>0.099455</td>\n",
       "      <td>0.407462</td>\n",
       "      <td>-0.172784</td>\n",
       "      <td>-0.107157</td>\n",
       "      <td>0.286373</td>\n",
       "      <td>0.466960</td>\n",
       "      <td>0.191336</td>\n",
       "      <td>0.146993</td>\n",
       "      <td>0.075046</td>\n",
       "      <td>0.487448</td>\n",
       "      <td>1.000000</td>\n",
       "      <td>0.028130</td>\n",
       "      <td>-0.006080</td>\n",
       "      <td>0.068134</td>\n",
       "      <td>0.033619</td>\n",
       "    </tr>\n",
       "    <tr>\n",
       "      <th>Bar</th>\n",
       "      <td>0.283678</td>\n",
       "      <td>-0.038656</td>\n",
       "      <td>-0.018162</td>\n",
       "      <td>0.080043</td>\n",
       "      <td>-0.102306</td>\n",
       "      <td>-0.036816</td>\n",
       "      <td>0.192303</td>\n",
       "      <td>0.063744</td>\n",
       "      <td>0.120014</td>\n",
       "      <td>-0.040833</td>\n",
       "      <td>-0.062932</td>\n",
       "      <td>-0.017504</td>\n",
       "      <td>0.028130</td>\n",
       "      <td>1.000000</td>\n",
       "      <td>0.028209</td>\n",
       "      <td>-0.077587</td>\n",
       "      <td>-0.049068</td>\n",
       "    </tr>\n",
       "    <tr>\n",
       "      <th>French</th>\n",
       "      <td>0.031766</td>\n",
       "      <td>0.041399</td>\n",
       "      <td>0.013076</td>\n",
       "      <td>0.061164</td>\n",
       "      <td>-0.008380</td>\n",
       "      <td>-0.006177</td>\n",
       "      <td>0.165773</td>\n",
       "      <td>-0.002328</td>\n",
       "      <td>0.190514</td>\n",
       "      <td>-0.091487</td>\n",
       "      <td>-0.085920</td>\n",
       "      <td>-0.039118</td>\n",
       "      <td>-0.006080</td>\n",
       "      <td>0.028209</td>\n",
       "      <td>1.000000</td>\n",
       "      <td>-0.073497</td>\n",
       "      <td>-0.073269</td>\n",
       "    </tr>\n",
       "    <tr>\n",
       "      <th>Asian</th>\n",
       "      <td>0.193810</td>\n",
       "      <td>-0.006079</td>\n",
       "      <td>-0.004329</td>\n",
       "      <td>0.025903</td>\n",
       "      <td>-0.068232</td>\n",
       "      <td>-0.004204</td>\n",
       "      <td>0.152816</td>\n",
       "      <td>0.177695</td>\n",
       "      <td>-0.149441</td>\n",
       "      <td>-0.115277</td>\n",
       "      <td>-0.113047</td>\n",
       "      <td>0.151440</td>\n",
       "      <td>0.068134</td>\n",
       "      <td>-0.077587</td>\n",
       "      <td>-0.073497</td>\n",
       "      <td>1.000000</td>\n",
       "      <td>-0.077536</td>\n",
       "    </tr>\n",
       "    <tr>\n",
       "      <th>Pizza</th>\n",
       "      <td>0.174517</td>\n",
       "      <td>-0.040522</td>\n",
       "      <td>-0.033107</td>\n",
       "      <td>0.064932</td>\n",
       "      <td>-0.026775</td>\n",
       "      <td>0.000960</td>\n",
       "      <td>0.102162</td>\n",
       "      <td>0.135573</td>\n",
       "      <td>0.047153</td>\n",
       "      <td>0.169137</td>\n",
       "      <td>0.477892</td>\n",
       "      <td>0.088247</td>\n",
       "      <td>0.033619</td>\n",
       "      <td>-0.049068</td>\n",
       "      <td>-0.073269</td>\n",
       "      <td>-0.077536</td>\n",
       "      <td>1.000000</td>\n",
       "    </tr>\n",
       "  </tbody>\n",
       "</table>\n",
       "</div>"
      ],
      "text/plain": [
       "                      Cuisine_Num   Ranking    Rating  Number of Reviews  \\\n",
       "Cuisine_Num              1.000000 -0.320250  0.120059           0.401768   \n",
       "Ranking                 -0.320250  1.000000 -0.368371          -0.220005   \n",
       "Rating                   0.120059 -0.368371  1.000000           0.027229   \n",
       "Number of Reviews        0.401768 -0.220005  0.027229           1.000000   \n",
       "Date_Delta              -0.277808  0.161944 -0.078942          -0.168376   \n",
       "Max_Review_Date_Diff    -0.117791  0.065661 -0.065990          -0.090588   \n",
       "Price_Num                0.570482 -0.239168  0.042103           0.288972   \n",
       "Vegetarian Friendly      0.691884 -0.300139  0.128356           0.360999   \n",
       "European                 0.484885 -0.279235  0.047848           0.210569   \n",
       "Mediterranean            0.385865 -0.146513  0.050665           0.182120   \n",
       "Italian                  0.214009 -0.087515  0.022474           0.120824   \n",
       "Vegan Options            0.555808 -0.214913  0.122054           0.316698   \n",
       "Gluten Free Options      0.536274 -0.214648  0.099455           0.407462   \n",
       "Bar                      0.283678 -0.038656 -0.018162           0.080043   \n",
       "French                   0.031766  0.041399  0.013076           0.061164   \n",
       "Asian                    0.193810 -0.006079 -0.004329           0.025903   \n",
       "Pizza                    0.174517 -0.040522 -0.033107           0.064932   \n",
       "\n",
       "                      Date_Delta  Max_Review_Date_Diff  Price_Num  \\\n",
       "Cuisine_Num            -0.277808             -0.117791   0.570482   \n",
       "Ranking                 0.161944              0.065661  -0.239168   \n",
       "Rating                 -0.078942             -0.065990   0.042103   \n",
       "Number of Reviews      -0.168376             -0.090588   0.288972   \n",
       "Date_Delta              1.000000              0.106113  -0.225798   \n",
       "Max_Review_Date_Diff    0.106113              1.000000  -0.006727   \n",
       "Price_Num              -0.225798             -0.006727   1.000000   \n",
       "Vegetarian Friendly    -0.251518             -0.113006   0.449295   \n",
       "European               -0.145746             -0.057261   0.369799   \n",
       "Mediterranean          -0.098046             -0.025598   0.287317   \n",
       "Italian                -0.022343              0.012135   0.200794   \n",
       "Vegan Options          -0.164181             -0.089547   0.249721   \n",
       "Gluten Free Options    -0.172784             -0.107157   0.286373   \n",
       "Bar                    -0.102306             -0.036816   0.192303   \n",
       "French                 -0.008380             -0.006177   0.165773   \n",
       "Asian                  -0.068232             -0.004204   0.152816   \n",
       "Pizza                  -0.026775              0.000960   0.102162   \n",
       "\n",
       "                      Vegetarian Friendly  European  Mediterranean   Italian  \\\n",
       "Cuisine_Num                      0.691884  0.484885       0.385865  0.214009   \n",
       "Ranking                         -0.300139 -0.279235      -0.146513 -0.087515   \n",
       "Rating                           0.128356  0.047848       0.050665  0.022474   \n",
       "Number of Reviews                0.360999  0.210569       0.182120  0.120824   \n",
       "Date_Delta                      -0.251518 -0.145746      -0.098046 -0.022343   \n",
       "Max_Review_Date_Diff            -0.113006 -0.057261      -0.025598  0.012135   \n",
       "Price_Num                        0.449295  0.369799       0.287317  0.200794   \n",
       "Vegetarian Friendly              1.000000  0.266105       0.245179  0.183063   \n",
       "European                         0.266105  1.000000       0.207893  0.083644   \n",
       "Mediterranean                    0.245179  0.207893       1.000000  0.324204   \n",
       "Italian                          0.183063  0.083644       0.324204  1.000000   \n",
       "Vegan Options                    0.553545  0.129058       0.176003  0.100346   \n",
       "Gluten Free Options              0.466960  0.191336       0.146993  0.075046   \n",
       "Bar                              0.063744  0.120014      -0.040833 -0.062932   \n",
       "French                          -0.002328  0.190514      -0.091487 -0.085920   \n",
       "Asian                            0.177695 -0.149441      -0.115277 -0.113047   \n",
       "Pizza                            0.135573  0.047153       0.169137  0.477892   \n",
       "\n",
       "                      Vegan Options  Gluten Free Options       Bar    French  \\\n",
       "Cuisine_Num                0.555808             0.536274  0.283678  0.031766   \n",
       "Ranking                   -0.214913            -0.214648 -0.038656  0.041399   \n",
       "Rating                     0.122054             0.099455 -0.018162  0.013076   \n",
       "Number of Reviews          0.316698             0.407462  0.080043  0.061164   \n",
       "Date_Delta                -0.164181            -0.172784 -0.102306 -0.008380   \n",
       "Max_Review_Date_Diff      -0.089547            -0.107157 -0.036816 -0.006177   \n",
       "Price_Num                  0.249721             0.286373  0.192303  0.165773   \n",
       "Vegetarian Friendly        0.553545             0.466960  0.063744 -0.002328   \n",
       "European                   0.129058             0.191336  0.120014  0.190514   \n",
       "Mediterranean              0.176003             0.146993 -0.040833 -0.091487   \n",
       "Italian                    0.100346             0.075046 -0.062932 -0.085920   \n",
       "Vegan Options              1.000000             0.487448 -0.017504 -0.039118   \n",
       "Gluten Free Options        0.487448             1.000000  0.028130 -0.006080   \n",
       "Bar                       -0.017504             0.028130  1.000000  0.028209   \n",
       "French                    -0.039118            -0.006080  0.028209  1.000000   \n",
       "Asian                      0.151440             0.068134 -0.077587 -0.073497   \n",
       "Pizza                      0.088247             0.033619 -0.049068 -0.073269   \n",
       "\n",
       "                         Asian     Pizza  \n",
       "Cuisine_Num           0.193810  0.174517  \n",
       "Ranking              -0.006079 -0.040522  \n",
       "Rating               -0.004329 -0.033107  \n",
       "Number of Reviews     0.025903  0.064932  \n",
       "Date_Delta           -0.068232 -0.026775  \n",
       "Max_Review_Date_Diff -0.004204  0.000960  \n",
       "Price_Num             0.152816  0.102162  \n",
       "Vegetarian Friendly   0.177695  0.135573  \n",
       "European             -0.149441  0.047153  \n",
       "Mediterranean        -0.115277  0.169137  \n",
       "Italian              -0.113047  0.477892  \n",
       "Vegan Options         0.151440  0.088247  \n",
       "Gluten Free Options   0.068134  0.033619  \n",
       "Bar                  -0.077587 -0.049068  \n",
       "French               -0.073497 -0.073269  \n",
       "Asian                 1.000000 -0.077536  \n",
       "Pizza                -0.077536  1.000000  "
      ]
     },
     "metadata": {},
     "output_type": "display_data"
    },
    {
     "data": {
      "text/plain": [
       "<AxesSubplot:>"
      ]
     },
     "execution_count": 97,
     "metadata": {},
     "output_type": "execute_result"
    },
    {
     "data": {
      "image/png": "[encoded data removed]",
      "text/plain": [
       "<Figure size 432x288 with 2 Axes>"
      ]
     },
     "metadata": {
      "needs_background": "light"
     },
     "output_type": "display_data"
    }
   ],
   "source": [
    "correlation = df[main_columns+cuisines_columns].corr()\n",
    "display(correlation)\n",
    "sns.heatmap(correlation, annot=False, cmap='gist_rainbow')"
   ]
  },
  {
   "cell_type": "markdown",
   "metadata": {},
   "source": [
    "Ожидаемо довольно сильно коррелирует самая популярна опция cuisine style (vegetarian friendly) с количеством cuisine style в ресторане. Других значительных корреляций не вижу."
   ]
  },
  {
   "cell_type": "markdown",
   "metadata": {},
   "source": [
    "# Разбиваем датафрейм на части, необходимые для обучения и тестирования модели"
   ]
  },
  {
   "cell_type": "code",
   "execution_count": 25,
   "metadata": {},
   "outputs": [],
   "source": [
    "# Х - данные с информацией о ресторанах, у - целевая переменная (рейтинги ресторанов)\n",
    "X = df.drop(['Restaurant_id', 'Rating'], axis = 1)\n",
    "y = df['Rating']"
   ]
  },
  {
   "cell_type": "code",
   "execution_count": 26,
   "metadata": {},
   "outputs": [],
   "source": [
    "# Загружаем специальный инструмент для разбивки:\n",
    "from sklearn.model_selection import train_test_split"
   ]
  },
  {
   "cell_type": "code",
   "execution_count": 27,
   "metadata": {},
   "outputs": [],
   "source": [
    "# Наборы данных с меткой \"train\" будут использоваться для обучения модели, \"test\" - для тестирования.\n",
    "# Для тестирования мы будем использовать 25% от исходного датасета.\n",
    "X_train, X_test, y_train, y_test = train_test_split(X, y, test_size=0.25)"
   ]
  },
  {
   "cell_type": "markdown",
   "metadata": {},
   "source": [
    "# Создаём, обучаем и тестируем модель"
   ]
  },
  {
   "cell_type": "code",
   "execution_count": 28,
   "metadata": {},
   "outputs": [],
   "source": [
    "# Импортируем необходимые библиотеки:\n",
    "from sklearn.ensemble import RandomForestRegressor # инструмент для создания и обучения модели\n",
    "from sklearn import metrics # инструменты для оценки точности модели"
   ]
  },
  {
   "cell_type": "code",
   "execution_count": 29,
   "metadata": {},
   "outputs": [],
   "source": [
    "# Создаём модель\n",
    "regr = RandomForestRegressor(n_estimators=100)\n",
    "\n",
    "# Обучаем модель на тестовом наборе данных\n",
    "regr.fit(X_train, y_train)\n",
    "\n",
    "# Используем обученную модель для предсказания рейтинга ресторанов в тестовой выборке.\n",
    "# Предсказанные значения записываем в переменную y_pred\n",
    "y_pred = regr.predict(X_test)"
   ]
  },
  {
   "cell_type": "code",
   "execution_count": 30,
   "metadata": {},
   "outputs": [
    {
     "name": "stdout",
     "output_type": "stream",
     "text": [
      "MAE: 0.21415299999999998\n"
     ]
    }
   ],
   "source": [
    "# Сравниваем предсказанные значения (y_pred) с реальными (y_test), и смотрим насколько они в среднем отличаются\n",
    "# Метрика называется Mean Absolute Error (MAE) и показывает среднее отклонение предсказанных значений от фактических.\n",
    "print('MAE:', metrics.mean_absolute_error(y_test, y_pred))"
   ]
  },
  {
   "cell_type": "code",
   "execution_count": null,
   "metadata": {},
   "outputs": [],
   "source": []
  },
  {
   "cell_type": "code",
   "execution_count": null,
   "metadata": {},
   "outputs": [],
   "source": []
  },
  {
   "cell_type": "code",
   "execution_count": null,
   "metadata": {},
   "outputs": [],
   "source": []
  }
 ],
 "metadata": {
  "kernelspec": {
   "display_name": "Python 3",
   "language": "python",
   "name": "python3"
  },
  "language_info": {
   "codemirror_mode": {
    "name": "ipython",
    "version": 3
   },
   "file_extension": ".py",
   "mimetype": "text/x-python",
   "name": "python",
   "nbconvert_exporter": "python",
   "pygments_lexer": "ipython3",
   "version": "3.8.5"
  }
 },
 "nbformat": 4,
 "nbformat_minor": 2
}
